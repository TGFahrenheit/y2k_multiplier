{
 "cells": [
  {
   "cell_type": "code",
   "execution_count": 1,
   "id": "5e11a2d4-e068-4ba4-8f72-8595be7bb243",
   "metadata": {},
   "outputs": [],
   "source": [
    "%load_ext autoreload\n",
    "%autoreload 2\n",
    "\n",
    "import warnings\n",
    "import pandas as pd\n",
    "import numpy as np\n",
    "import matplotlib.pyplot as plt\n",
    "import matplotlib.dates as mdates\n",
    "import statistics \n",
    "from src.strike_tools import calculate_stable_strike, probability_stable_strike, calculate_turbo_strikes, calculate_cvi_strike, calculate_volatility_strike\n",
    "\n",
    "warnings.simplefilter(action='ignore', category=FutureWarning)\n"
   ]
  },
  {
   "cell_type": "code",
   "execution_count": 20,
   "id": "44d85ec8-bc11-45bd-aa8f-793b86b5e6cd",
   "metadata": {},
   "outputs": [
    {
     "name": "stdout",
     "output_type": "stream",
     "text": [
      "cusd\n",
      "crvusd\n",
      "dai\n",
      "fdusd\n",
      "frax\n",
      "lusd\n",
      "mai\n",
      "pyusd\n",
      "steth\n",
      "tusd\n",
      "usdc\n",
      "usdd\n",
      "usdt\n",
      "usde\n",
      "wbtc\n"
     ]
    }
   ],
   "source": [
    "#stable_tickers = [ \"usde\"]\n",
    "stable_tickers = [\"cusd\", \"crvusd\" ,\"dai\", \"fdusd\", \"frax\", \"lusd\",\"mai\" ,\"pyusd\", \"steth\", \"tusd\", \"usdc\", \"usdd\", \"usdt\",\"usde\", \"wbtc\"] \n",
    "stable_strikes = [[\"cusd\",0.976],[\"crvusd\",0.990],[\"dai\",0.997],[\"fdusd\",0.996],[\"frax\",0.995],[\"lusd\",0.990],[\"mai\",0.750],[\"pyusd\",0.990],[\"steth\",0.981],[\"tusd\",0.974],[\"usdc\",0.992],[\"usdd\",0.977],[\"usde\",0.995],[\"usdt\",0.991],[\"wbtc\",0.997]]\n",
    "\n",
    "asset_name_list = []\n",
    "alt_strike_list = []\n",
    "alt_probability_list = []\n",
    "multiplier_list = []\n",
    "week_num = []\n",
    "\n",
    "for ticker in stable_tickers:\n",
    "    print(ticker)\n",
    "    csv_file_path = f'data/{ticker}/{ticker}_daily.csv'\n",
    "    price_history = pd.read_csv(csv_file_path)\n",
    "\n",
    "    for d in stable_strikes:\n",
    "        if d[0] == ticker:\n",
    "            test_price = d[1]\n",
    "\n",
    "    ideal_strike,exp_probability,total_week = calculate_stable_strike(price_history.tail(365),0,0,ticker)\n",
    "    alt_probability = probability_stable_strike(price_history.tail(365),test_price,0,0,ticker) #alt_strike\n",
    "    \n",
    "    asset_name_list.append(ticker)    \n",
    "    alt_strike_list.append(test_price)\n",
    "    alt_probability_list.append(100*alt_probability)\n",
    "    multiplier_list.append(1/(alt_probability+0.0001))\n",
    "    week_num.append(total_week)\n",
    "\n",
    "    "
   ]
  },
  {
   "cell_type": "code",
   "execution_count": 21,
   "id": "5a9482ad-6942-4c8d-ab83-51ee43f5e7e4",
   "metadata": {},
   "outputs": [
    {
     "name": "stdout",
     "output_type": "stream",
     "text": [
      "     Asset  Strike  Probability    Multiplier  Weeks\n",
      "0     cusd   0.976    13.207547      7.565700     53\n",
      "1   crvusd   0.990     0.000000  10000.000000     11\n",
      "2      dai   0.997     2.857143     34.877927     35\n",
      "3    fdusd   0.996     9.677419     10.322667     31\n",
      "4     frax   0.995     6.000000     16.638935     50\n",
      "5     lusd   0.990     2.040816     48.761071     49\n",
      "6      mai   0.750    16.129032      6.196158     31\n",
      "7    pyusd   0.990     0.000000  10000.000000     18\n",
      "8    steth   0.981     0.000000  10000.000000     53\n",
      "9     tusd   0.974     8.510638     11.736210     47\n",
      "10    usdc   0.992     0.000000  10000.000000     53\n",
      "11    usdd   0.977     1.923077     51.730999     52\n",
      "12    usdt   0.991     0.000000  10000.000000     53\n",
      "13    usde   0.995    11.111111      8.991907      9\n",
      "14    wbtc   0.997     0.000000  10000.000000     53\n"
     ]
    }
   ],
   "source": [
    "output_df = pd.DataFrame({'Asset': asset_name_list,\n",
    "                          'Strike':alt_strike_list,\n",
    "                          'Probability':alt_probability_list,\n",
    "                          'Multiplier':multiplier_list,\n",
    "                          'Weeks' : week_num\n",
    "                         })\n",
    "\n",
    "print(output_df)"
   ]
  },
  {
   "cell_type": "code",
   "execution_count": null,
   "id": "18c7291b-88a5-46e2-a40d-06581fadd0df",
   "metadata": {},
   "outputs": [],
   "source": []
  }
 ],
 "metadata": {
  "kernelspec": {
   "display_name": "strikes",
   "language": "python",
   "name": "strikes"
  },
  "language_info": {
   "codemirror_mode": {
    "name": "ipython",
    "version": 3
   },
   "file_extension": ".py",
   "mimetype": "text/x-python",
   "name": "python",
   "nbconvert_exporter": "python",
   "pygments_lexer": "ipython3",
   "version": "3.8.16"
  }
 },
 "nbformat": 4,
 "nbformat_minor": 5
}
