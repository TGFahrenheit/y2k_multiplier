{
 "cells": [
  {
   "cell_type": "code",
   "execution_count": 2,
   "id": "96189f43-9fd4-4d92-b369-a3f68dd589a2",
   "metadata": {},
   "outputs": [
    {
     "name": "stdout",
     "output_type": "stream",
     "text": [
      "The autoreload extension is already loaded. To reload it, use:\n",
      "  %reload_ext autoreload\n"
     ]
    },
    {
     "data": {
      "text/plain": [
       "True"
      ]
     },
     "execution_count": 2,
     "metadata": {},
     "output_type": "execute_result"
    }
   ],
   "source": [
    "%load_ext autoreload\n",
    "%autoreload 2\n",
    "\n",
    "import json\n",
    "from src.oracles.chainlink import mineChainlink\n",
    "from src.oracles.pyth import minePyth\n",
    "from src.helpers import fetchSourceInfo, csv_format_daily, finalizeMine\n",
    "\n",
    "# Rpc configuration for mineData function\n",
    "from web3 import Web3\n",
    "from dotenv import load_dotenv\n",
    "import os\n",
    "load_dotenv()"
   ]
  },
  {
   "cell_type": "code",
   "execution_count": 3,
   "id": "6aeb072e-2315-42e3-b611-2b05ca018ea1",
   "metadata": {},
   "outputs": [],
   "source": [
    "# Routing the mining to the correct source\n",
    "def mineData(sources):    \n",
    "    # Iterating over the sources to mine data\n",
    "    for source in sources:\n",
    "        # Configuring the rpc for each chain\n",
    "        rpcEnv = f\"{source['chain']}_RPC\"\n",
    "        rpc = os.getenv(rpcEnv)\n",
    "        web3 = Web3(Web3.HTTPProvider(rpc))\n",
    "\n",
    "        # Mining the data\n",
    "        print(f\"Mining {source['name']} ({source['chain']}) via {source['sourceType']} on {source['address']}...\")\n",
    "        if(source[\"sourceType\"] == \"Chainlink\"): \n",
    "            mineChainlink(source, web3)\n",
    "            finalizeMine(source[\"name\"])\n",
    "        elif(source[\"sourceType\"] == \"Pyth\"): \n",
    "            minePyth(source)\n",
    "            #finalizeMine(source[\"name\"])\n",
    "        else: print(f\"Oracle type {source['sourceType']} not supported\")\n",
    "\n",
    "\n",
    "# Main function to mine all or specific source\n",
    "def main(mineAllSources, mineSources):\n",
    "    # Mining all data sources if mineAllSources is true\n",
    "    if(mineAllSources): \n",
    "        f = open(f\"config/sources.json\")\n",
    "        sourceData = json.load(f)\n",
    "        sources = fetchSourceInfo(list(sourceData.keys()))\n",
    "        print(f\"Mining data: {list(sourceData.keys())}\")\n",
    "        mineData(sources)\n",
    "        # TODO: Format the data to incl. High/Low/Close/Open for each day\n",
    "\n",
    "    # Mining the specified sources if mineAllSources is false\n",
    "    else : \n",
    "        if(len(mineSources) == 0): raise Exception(\"No sources found for the given tickers\")\n",
    "        print(f\"Mining data for the following: {ticker}\")\n",
    "        mineData(mineSources)\n",
    "        # TODO: Format the data to incl. Date/High/Low/Close/Open for each day"
   ]
  },
  {
   "cell_type": "code",
   "execution_count": 5,
   "id": "5611c16b-cc6d-4c03-af92-c40ffd49d754",
   "metadata": {},
   "outputs": [
    {
     "name": "stdout",
     "output_type": "stream",
     "text": [
      "Mining data for the following: ['btrfly']\n",
      "Mining BTRFLY (ARBITRUM) via Chainlink on 0x714f9EF1bd5A3eD3bcBaDa17b91f1fBD8048bbc1...\n"
     ]
    },
    {
     "name": "stderr",
     "output_type": "stream",
     "text": [
      "  0%|                                                   | 0/400 [00:00<?, ?it/s]\n"
     ]
    },
    {
     "ename": "Web3ValidationError",
     "evalue": "\nCould not identify the intended function with name `getRoundData`, positional arguments with type(s) `int` and keyword arguments with type(s) `{}`.\nFound 1 function(s) with the name `getRoundData`: ['getRoundData(uint80)']\nFunction invocation failed due to no matching argument types.",
     "output_type": "error",
     "traceback": [
      "\u001b[0;31m---------------------------------------------------------------------------\u001b[0m",
      "\u001b[0;31mWeb3ValidationError\u001b[0m                       Traceback (most recent call last)",
      "Cell \u001b[0;32mIn[5], line 12\u001b[0m\n\u001b[1;32m      8\u001b[0m mineSources \u001b[38;5;241m=\u001b[39m fetchSourceInfo(ticker)\n\u001b[1;32m     11\u001b[0m \u001b[38;5;66;03m# Mining process\u001b[39;00m\n\u001b[0;32m---> 12\u001b[0m \u001b[43mmain\u001b[49m\u001b[43m(\u001b[49m\u001b[43mmineAllSources\u001b[49m\u001b[43m,\u001b[49m\u001b[43m \u001b[49m\u001b[43mmineSources\u001b[49m\u001b[43m)\u001b[49m\n\u001b[1;32m     13\u001b[0m \u001b[38;5;28mprint\u001b[39m(\u001b[38;5;124m'\u001b[39m\u001b[38;5;124mDone\u001b[39m\u001b[38;5;124m'\u001b[39m)\n",
      "Cell \u001b[0;32mIn[3], line 36\u001b[0m, in \u001b[0;36mmain\u001b[0;34m(mineAllSources, mineSources)\u001b[0m\n\u001b[1;32m     34\u001b[0m \u001b[38;5;28;01mif\u001b[39;00m(\u001b[38;5;28mlen\u001b[39m(mineSources) \u001b[38;5;241m==\u001b[39m \u001b[38;5;241m0\u001b[39m): \u001b[38;5;28;01mraise\u001b[39;00m \u001b[38;5;167;01mException\u001b[39;00m(\u001b[38;5;124m\"\u001b[39m\u001b[38;5;124mNo sources found for the given tickers\u001b[39m\u001b[38;5;124m\"\u001b[39m)\n\u001b[1;32m     35\u001b[0m \u001b[38;5;28mprint\u001b[39m(\u001b[38;5;124mf\u001b[39m\u001b[38;5;124m\"\u001b[39m\u001b[38;5;124mMining data for the following: \u001b[39m\u001b[38;5;132;01m{\u001b[39;00mticker\u001b[38;5;132;01m}\u001b[39;00m\u001b[38;5;124m\"\u001b[39m)\n\u001b[0;32m---> 36\u001b[0m \u001b[43mmineData\u001b[49m\u001b[43m(\u001b[49m\u001b[43mmineSources\u001b[49m\u001b[43m)\u001b[49m\n",
      "Cell \u001b[0;32mIn[3], line 13\u001b[0m, in \u001b[0;36mmineData\u001b[0;34m(sources)\u001b[0m\n\u001b[1;32m     11\u001b[0m \u001b[38;5;28mprint\u001b[39m(\u001b[38;5;124mf\u001b[39m\u001b[38;5;124m\"\u001b[39m\u001b[38;5;124mMining \u001b[39m\u001b[38;5;132;01m{\u001b[39;00msource[\u001b[38;5;124m'\u001b[39m\u001b[38;5;124mname\u001b[39m\u001b[38;5;124m'\u001b[39m]\u001b[38;5;132;01m}\u001b[39;00m\u001b[38;5;124m (\u001b[39m\u001b[38;5;132;01m{\u001b[39;00msource[\u001b[38;5;124m'\u001b[39m\u001b[38;5;124mchain\u001b[39m\u001b[38;5;124m'\u001b[39m]\u001b[38;5;132;01m}\u001b[39;00m\u001b[38;5;124m) via \u001b[39m\u001b[38;5;132;01m{\u001b[39;00msource[\u001b[38;5;124m'\u001b[39m\u001b[38;5;124msourceType\u001b[39m\u001b[38;5;124m'\u001b[39m]\u001b[38;5;132;01m}\u001b[39;00m\u001b[38;5;124m on \u001b[39m\u001b[38;5;132;01m{\u001b[39;00msource[\u001b[38;5;124m'\u001b[39m\u001b[38;5;124maddress\u001b[39m\u001b[38;5;124m'\u001b[39m]\u001b[38;5;132;01m}\u001b[39;00m\u001b[38;5;124m...\u001b[39m\u001b[38;5;124m\"\u001b[39m)\n\u001b[1;32m     12\u001b[0m \u001b[38;5;28;01mif\u001b[39;00m(source[\u001b[38;5;124m\"\u001b[39m\u001b[38;5;124msourceType\u001b[39m\u001b[38;5;124m\"\u001b[39m] \u001b[38;5;241m==\u001b[39m \u001b[38;5;124m\"\u001b[39m\u001b[38;5;124mChainlink\u001b[39m\u001b[38;5;124m\"\u001b[39m): \n\u001b[0;32m---> 13\u001b[0m     \u001b[43mmineChainlink\u001b[49m\u001b[43m(\u001b[49m\u001b[43msource\u001b[49m\u001b[43m,\u001b[49m\u001b[43m \u001b[49m\u001b[43mweb3\u001b[49m\u001b[43m)\u001b[49m\n\u001b[1;32m     14\u001b[0m     finalizeMine(source[\u001b[38;5;124m\"\u001b[39m\u001b[38;5;124mname\u001b[39m\u001b[38;5;124m\"\u001b[39m])\n\u001b[1;32m     15\u001b[0m \u001b[38;5;28;01melif\u001b[39;00m(source[\u001b[38;5;124m\"\u001b[39m\u001b[38;5;124msourceType\u001b[39m\u001b[38;5;124m\"\u001b[39m] \u001b[38;5;241m==\u001b[39m \u001b[38;5;124m\"\u001b[39m\u001b[38;5;124mPyth\u001b[39m\u001b[38;5;124m\"\u001b[39m): \n",
      "File \u001b[0;32m~/Documents/GitHub/Automated_strike/src/oracles/chainlink.py:56\u001b[0m, in \u001b[0;36mmineChainlink\u001b[0;34m(source, web3)\u001b[0m\n\u001b[1;32m     54\u001b[0m \u001b[38;5;28;01mfor\u001b[39;00m i \u001b[38;5;129;01min\u001b[39;00m tqdm(\u001b[38;5;28mrange\u001b[39m(ids)):\n\u001b[1;32m     55\u001b[0m     startFrom \u001b[38;5;241m+\u001b[39m\u001b[38;5;241m=\u001b[39m \u001b[38;5;241m1\u001b[39m\n\u001b[0;32m---> 56\u001b[0m     historicalData \u001b[38;5;241m=\u001b[39m \u001b[43mcontract\u001b[49m\u001b[38;5;241;43m.\u001b[39;49m\u001b[43mfunctions\u001b[49m\u001b[38;5;241;43m.\u001b[39;49m\u001b[43mgetRoundData\u001b[49m\u001b[43m(\u001b[49m\u001b[43mstartFrom\u001b[49m\u001b[43m)\u001b[49m\u001b[38;5;241m.\u001b[39mcall()\n\u001b[1;32m     57\u001b[0m     data\u001b[38;5;241m.\u001b[39mappend(historicalData)\n\u001b[1;32m     58\u001b[0m new_df \u001b[38;5;241m=\u001b[39m pd\u001b[38;5;241m.\u001b[39mDataFrame(data, columns \u001b[38;5;241m=\u001b[39m [\u001b[38;5;124m'\u001b[39m\u001b[38;5;124mroundId\u001b[39m\u001b[38;5;124m'\u001b[39m, \u001b[38;5;124m'\u001b[39m\u001b[38;5;124mprice\u001b[39m\u001b[38;5;124m'\u001b[39m, \u001b[38;5;124m'\u001b[39m\u001b[38;5;124mstartedAt\u001b[39m\u001b[38;5;124m'\u001b[39m, \u001b[38;5;124m'\u001b[39m\u001b[38;5;124mupdatedAt\u001b[39m\u001b[38;5;124m'\u001b[39m, \u001b[38;5;124m'\u001b[39m\u001b[38;5;124mroundId2\u001b[39m\u001b[38;5;124m'\u001b[39m])\n",
      "File \u001b[0;32m~/miniconda3/envs/strikes/lib/python3.8/site-packages/web3/contract/contract.py:260\u001b[0m, in \u001b[0;36mContractFunction.__call__\u001b[0;34m(self, *args, **kwargs)\u001b[0m\n\u001b[1;32m    258\u001b[0m \u001b[38;5;28;01melse\u001b[39;00m:\n\u001b[1;32m    259\u001b[0m     clone\u001b[38;5;241m.\u001b[39mkwargs \u001b[38;5;241m=\u001b[39m kwargs\n\u001b[0;32m--> 260\u001b[0m \u001b[43mclone\u001b[49m\u001b[38;5;241;43m.\u001b[39;49m\u001b[43m_set_function_info\u001b[49m\u001b[43m(\u001b[49m\u001b[43m)\u001b[49m\n\u001b[1;32m    261\u001b[0m \u001b[38;5;28;01mreturn\u001b[39;00m clone\n",
      "File \u001b[0;32m~/miniconda3/envs/strikes/lib/python3.8/site-packages/web3/contract/base_contract.py:473\u001b[0m, in \u001b[0;36mBaseContractFunction._set_function_info\u001b[0;34m(self)\u001b[0m\n\u001b[1;32m    471\u001b[0m \u001b[38;5;28;01mdef\u001b[39;00m \u001b[38;5;21m_set_function_info\u001b[39m(\u001b[38;5;28mself\u001b[39m) \u001b[38;5;241m-\u001b[39m\u001b[38;5;241m>\u001b[39m \u001b[38;5;28;01mNone\u001b[39;00m:\n\u001b[1;32m    472\u001b[0m     \u001b[38;5;28;01mif\u001b[39;00m \u001b[38;5;129;01mnot\u001b[39;00m \u001b[38;5;28mself\u001b[39m\u001b[38;5;241m.\u001b[39mabi:\n\u001b[0;32m--> 473\u001b[0m         \u001b[38;5;28mself\u001b[39m\u001b[38;5;241m.\u001b[39mabi \u001b[38;5;241m=\u001b[39m \u001b[43mfind_matching_fn_abi\u001b[49m\u001b[43m(\u001b[49m\n\u001b[1;32m    474\u001b[0m \u001b[43m            \u001b[49m\u001b[38;5;28;43mself\u001b[39;49m\u001b[38;5;241;43m.\u001b[39;49m\u001b[43mcontract_abi\u001b[49m\u001b[43m,\u001b[49m\n\u001b[1;32m    475\u001b[0m \u001b[43m            \u001b[49m\u001b[38;5;28;43mself\u001b[39;49m\u001b[38;5;241;43m.\u001b[39;49m\u001b[43mw3\u001b[49m\u001b[38;5;241;43m.\u001b[39;49m\u001b[43mcodec\u001b[49m\u001b[43m,\u001b[49m\n\u001b[1;32m    476\u001b[0m \u001b[43m            \u001b[49m\u001b[38;5;28;43mself\u001b[39;49m\u001b[38;5;241;43m.\u001b[39;49m\u001b[43mfunction_identifier\u001b[49m\u001b[43m,\u001b[49m\n\u001b[1;32m    477\u001b[0m \u001b[43m            \u001b[49m\u001b[38;5;28;43mself\u001b[39;49m\u001b[38;5;241;43m.\u001b[39;49m\u001b[43margs\u001b[49m\u001b[43m,\u001b[49m\n\u001b[1;32m    478\u001b[0m \u001b[43m            \u001b[49m\u001b[38;5;28;43mself\u001b[39;49m\u001b[38;5;241;43m.\u001b[39;49m\u001b[43mkwargs\u001b[49m\u001b[43m,\u001b[49m\n\u001b[1;32m    479\u001b[0m \u001b[43m        \u001b[49m\u001b[43m)\u001b[49m\n\u001b[1;32m    480\u001b[0m     \u001b[38;5;28;01mif\u001b[39;00m \u001b[38;5;28mself\u001b[39m\u001b[38;5;241m.\u001b[39mfunction_identifier \u001b[38;5;129;01min\u001b[39;00m [FallbackFn, ReceiveFn]:\n\u001b[1;32m    481\u001b[0m         \u001b[38;5;28mself\u001b[39m\u001b[38;5;241m.\u001b[39mselector \u001b[38;5;241m=\u001b[39m encode_hex(\u001b[38;5;124mb\u001b[39m\u001b[38;5;124m\"\u001b[39m\u001b[38;5;124m\"\u001b[39m)\n",
      "File \u001b[0;32m~/miniconda3/envs/strikes/lib/python3.8/site-packages/web3/_utils/contracts.py:208\u001b[0m, in \u001b[0;36mfind_matching_fn_abi\u001b[0;34m(abi, abi_codec, fn_identifier, args, kwargs)\u001b[0m\n\u001b[1;32m    197\u001b[0m collapsed_kwargs \u001b[38;5;241m=\u001b[39m \u001b[38;5;28mdict\u001b[39m(\n\u001b[1;32m    198\u001b[0m     {(k, extract_argument_types([v])) \u001b[38;5;28;01mfor\u001b[39;00m k, v \u001b[38;5;129;01min\u001b[39;00m kwargs\u001b[38;5;241m.\u001b[39mitems()}\n\u001b[1;32m    199\u001b[0m )\n\u001b[1;32m    200\u001b[0m message \u001b[38;5;241m=\u001b[39m (\n\u001b[1;32m    201\u001b[0m     \u001b[38;5;124mf\u001b[39m\u001b[38;5;124m\"\u001b[39m\u001b[38;5;130;01m\\n\u001b[39;00m\u001b[38;5;124mCould not identify the intended function with name `\u001b[39m\u001b[38;5;132;01m{\u001b[39;00mfn_identifier\u001b[38;5;132;01m}\u001b[39;00m\u001b[38;5;124m`, \u001b[39m\u001b[38;5;124m\"\u001b[39m\n\u001b[1;32m    202\u001b[0m     \u001b[38;5;124mf\u001b[39m\u001b[38;5;124m\"\u001b[39m\u001b[38;5;124mpositional arguments with type(s) `\u001b[39m\u001b[38;5;132;01m{\u001b[39;00mcollapsed_args\u001b[38;5;132;01m}\u001b[39;00m\u001b[38;5;124m` and \u001b[39m\u001b[38;5;124m\"\u001b[39m\n\u001b[0;32m   (...)\u001b[0m\n\u001b[1;32m    205\u001b[0m     \u001b[38;5;124mf\u001b[39m\u001b[38;5;124m\"\u001b[39m\u001b[38;5;124mthe name `\u001b[39m\u001b[38;5;132;01m{\u001b[39;00mfn_identifier\u001b[38;5;132;01m}\u001b[39;00m\u001b[38;5;124m`: \u001b[39m\u001b[38;5;132;01m{\u001b[39;00mmatching_function_signatures\u001b[38;5;132;01m}\u001b[39;00m\u001b[38;5;132;01m{\u001b[39;00mdiagnosis\u001b[38;5;132;01m}\u001b[39;00m\u001b[38;5;124m\"\u001b[39m\n\u001b[1;32m    206\u001b[0m )\n\u001b[0;32m--> 208\u001b[0m \u001b[38;5;28;01mraise\u001b[39;00m Web3ValidationError(message)\n",
      "\u001b[0;31mWeb3ValidationError\u001b[0m: \nCould not identify the intended function with name `getRoundData`, positional arguments with type(s) `int` and keyword arguments with type(s) `{}`.\nFound 1 function(s) with the name `getRoundData`: ['getRoundData(uint80)']\nFunction invocation failed due to no matching argument types."
     ]
    }
   ],
   "source": [
    "# Mining configuration\n",
    "mineAllSources = False\n",
    "\n",
    "#ticker = [\"cusd\", \"dai\", \"fdusd\", \"frax\", \"lusd\",\"mai\" ,\"pyusd\", \"steth\", \"tusd\", \"usdc\", \"usdd\", \"usdt\", \"wbtc\"] \n",
    "\n",
    "ticker = [ \"btrfly\"]\n",
    "#ticker = [ \"arb\", \"btc\", \"eth\", \"gmx\", \"pendle\", \"sol\",\"cvi\"]\n",
    "mineSources = fetchSourceInfo(ticker)\n",
    "\n",
    "\n",
    "# Mining process\n",
    "main(mineAllSources, mineSources)\n",
    "print('Done')"
   ]
  },
  {
   "cell_type": "code",
   "execution_count": null,
   "id": "b63b1328-7068-4aad-84c0-4fe2caa8ee8a",
   "metadata": {},
   "outputs": [],
   "source": []
  }
 ],
 "metadata": {
  "kernelspec": {
   "display_name": "strikes",
   "language": "python",
   "name": "strikes"
  },
  "language_info": {
   "codemirror_mode": {
    "name": "ipython",
    "version": 3
   },
   "file_extension": ".py",
   "mimetype": "text/x-python",
   "name": "python",
   "nbconvert_exporter": "python",
   "pygments_lexer": "ipython3",
   "version": "3.8.16"
  }
 },
 "nbformat": 4,
 "nbformat_minor": 5
}
