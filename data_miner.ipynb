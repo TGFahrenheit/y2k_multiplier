{
 "cells": [
  {
   "cell_type": "code",
   "execution_count": 4,
   "id": "96189f43-9fd4-4d92-b369-a3f68dd589a2",
   "metadata": {},
   "outputs": [
    {
     "name": "stdout",
     "output_type": "stream",
     "text": [
      "The autoreload extension is already loaded. To reload it, use:\n",
      "  %reload_ext autoreload\n"
     ]
    },
    {
     "data": {
      "text/plain": [
       "True"
      ]
     },
     "execution_count": 4,
     "metadata": {},
     "output_type": "execute_result"
    }
   ],
   "source": [
    "%load_ext autoreload\n",
    "%autoreload 2\n",
    "\n",
    "import json\n",
    "from src.oracles.chainlink import mineChainlink\n",
    "from src.oracles.pyth import minePyth\n",
    "from src.helpers import fetchSourceInfo, csv_format_daily, finalizeMine\n",
    "\n",
    "# Rpc configuration for mineData function\n",
    "from web3 import Web3\n",
    "from dotenv import load_dotenv\n",
    "import os\n",
    "load_dotenv()"
   ]
  },
  {
   "cell_type": "code",
   "execution_count": 5,
   "id": "6aeb072e-2315-42e3-b611-2b05ca018ea1",
   "metadata": {},
   "outputs": [],
   "source": [
    "# Routing the mining to the correct source\n",
    "def mineData(sources):    \n",
    "    # Iterating over the sources to mine data\n",
    "    for source in sources:\n",
    "        # Configuring the rpc for each chain\n",
    "        rpcEnv = f\"{source['chain']}_RPC\"\n",
    "        rpc = os.getenv(rpcEnv)\n",
    "        web3 = Web3(Web3.HTTPProvider(rpc))\n",
    "\n",
    "        # Mining the data\n",
    "        print(f\"Mining {source['name']} ({source['chain']}) via {source['sourceType']} on {source['address']}...\")\n",
    "        if(source[\"sourceType\"] == \"Chainlink\"): \n",
    "            mineChainlink(source, web3)\n",
    "            finalizeMine(source[\"name\"])\n",
    "        elif(source[\"sourceType\"] == \"Pyth\"): \n",
    "            minePyth(source)\n",
    "            #finalizeMine(source[\"name\"])\n",
    "        else: print(f\"Oracle type {source['sourceType']} not supported\")\n",
    "\n",
    "\n",
    "# Main function to mine all or specific source\n",
    "def main(mineAllSources, mineSources):\n",
    "    # Mining all data sources if mineAllSources is true\n",
    "    if(mineAllSources): \n",
    "        f = open(f\"config/sources.json\")\n",
    "        sourceData = json.load(f)\n",
    "        sources = fetchSourceInfo(list(sourceData.keys()))\n",
    "        print(f\"Mining data: {list(sourceData.keys())}\")\n",
    "        mineData(sources)\n",
    "        # TODO: Format the data to incl. High/Low/Close/Open for each day\n",
    "\n",
    "    # Mining the specified sources if mineAllSources is false\n",
    "    else : \n",
    "        if(len(mineSources) == 0): raise Exception(\"No sources found for the given tickers\")\n",
    "        print(f\"Mining data for the following: {ticker}\")\n",
    "        mineData(mineSources)\n",
    "        # TODO: Format the data to incl. Date/High/Low/Close/Open for each day"
   ]
  },
  {
   "cell_type": "code",
   "execution_count": 6,
   "id": "5611c16b-cc6d-4c03-af92-c40ffd49d754",
   "metadata": {},
   "outputs": [
    {
     "name": "stdout",
     "output_type": "stream",
     "text": [
      "Mining data for the following: ['cusd', 'crvusd', 'dai', 'fdusd', 'frax', 'lusd', 'mai', 'pyusd', 'steth', 'tusd', 'usdc', 'usdd', 'usdt', 'usde', 'wbtc']\n",
      "Mining CUSD (MAINNET) via Pyth on 0x8f218655050a1476b780185e89f19d2b1e1f49e9bd629efad6ac547a946bf6ab...\n",
      "https://benchmarks.pyth.network/v1/shims/tradingview/history?symbol=Crypto.cusd/USD&resolution=D&from=1681499707&to=1713035707\n",
      "Mining crvUSD (ARBITRUM) via Chainlink on 0x0a32255dd4BB6177C994bAAc73E0606fDD568f66...\n"
     ]
    },
    {
     "ename": "ValueError",
     "evalue": "cannot convert float NaN to integer",
     "output_type": "error",
     "traceback": [
      "\u001b[0;31m---------------------------------------------------------------------------\u001b[0m",
      "\u001b[0;31mValueError\u001b[0m                                Traceback (most recent call last)",
      "Cell \u001b[0;32mIn[6], line 12\u001b[0m\n\u001b[1;32m      8\u001b[0m mineSources \u001b[38;5;241m=\u001b[39m fetchSourceInfo(ticker)\n\u001b[1;32m     11\u001b[0m \u001b[38;5;66;03m# Mining process\u001b[39;00m\n\u001b[0;32m---> 12\u001b[0m \u001b[43mmain\u001b[49m\u001b[43m(\u001b[49m\u001b[43mmineAllSources\u001b[49m\u001b[43m,\u001b[49m\u001b[43m \u001b[49m\u001b[43mmineSources\u001b[49m\u001b[43m)\u001b[49m\n\u001b[1;32m     13\u001b[0m \u001b[38;5;28mprint\u001b[39m(\u001b[38;5;124m'\u001b[39m\u001b[38;5;124mDone\u001b[39m\u001b[38;5;124m'\u001b[39m)\n",
      "Cell \u001b[0;32mIn[5], line 36\u001b[0m, in \u001b[0;36mmain\u001b[0;34m(mineAllSources, mineSources)\u001b[0m\n\u001b[1;32m     34\u001b[0m \u001b[38;5;28;01mif\u001b[39;00m(\u001b[38;5;28mlen\u001b[39m(mineSources) \u001b[38;5;241m==\u001b[39m \u001b[38;5;241m0\u001b[39m): \u001b[38;5;28;01mraise\u001b[39;00m \u001b[38;5;167;01mException\u001b[39;00m(\u001b[38;5;124m\"\u001b[39m\u001b[38;5;124mNo sources found for the given tickers\u001b[39m\u001b[38;5;124m\"\u001b[39m)\n\u001b[1;32m     35\u001b[0m \u001b[38;5;28mprint\u001b[39m(\u001b[38;5;124mf\u001b[39m\u001b[38;5;124m\"\u001b[39m\u001b[38;5;124mMining data for the following: \u001b[39m\u001b[38;5;132;01m{\u001b[39;00mticker\u001b[38;5;132;01m}\u001b[39;00m\u001b[38;5;124m\"\u001b[39m)\n\u001b[0;32m---> 36\u001b[0m \u001b[43mmineData\u001b[49m\u001b[43m(\u001b[49m\u001b[43mmineSources\u001b[49m\u001b[43m)\u001b[49m\n",
      "Cell \u001b[0;32mIn[5], line 13\u001b[0m, in \u001b[0;36mmineData\u001b[0;34m(sources)\u001b[0m\n\u001b[1;32m     11\u001b[0m \u001b[38;5;28mprint\u001b[39m(\u001b[38;5;124mf\u001b[39m\u001b[38;5;124m\"\u001b[39m\u001b[38;5;124mMining \u001b[39m\u001b[38;5;132;01m{\u001b[39;00msource[\u001b[38;5;124m'\u001b[39m\u001b[38;5;124mname\u001b[39m\u001b[38;5;124m'\u001b[39m]\u001b[38;5;132;01m}\u001b[39;00m\u001b[38;5;124m (\u001b[39m\u001b[38;5;132;01m{\u001b[39;00msource[\u001b[38;5;124m'\u001b[39m\u001b[38;5;124mchain\u001b[39m\u001b[38;5;124m'\u001b[39m]\u001b[38;5;132;01m}\u001b[39;00m\u001b[38;5;124m) via \u001b[39m\u001b[38;5;132;01m{\u001b[39;00msource[\u001b[38;5;124m'\u001b[39m\u001b[38;5;124msourceType\u001b[39m\u001b[38;5;124m'\u001b[39m]\u001b[38;5;132;01m}\u001b[39;00m\u001b[38;5;124m on \u001b[39m\u001b[38;5;132;01m{\u001b[39;00msource[\u001b[38;5;124m'\u001b[39m\u001b[38;5;124maddress\u001b[39m\u001b[38;5;124m'\u001b[39m]\u001b[38;5;132;01m}\u001b[39;00m\u001b[38;5;124m...\u001b[39m\u001b[38;5;124m\"\u001b[39m)\n\u001b[1;32m     12\u001b[0m \u001b[38;5;28;01mif\u001b[39;00m(source[\u001b[38;5;124m\"\u001b[39m\u001b[38;5;124msourceType\u001b[39m\u001b[38;5;124m\"\u001b[39m] \u001b[38;5;241m==\u001b[39m \u001b[38;5;124m\"\u001b[39m\u001b[38;5;124mChainlink\u001b[39m\u001b[38;5;124m\"\u001b[39m): \n\u001b[0;32m---> 13\u001b[0m     \u001b[43mmineChainlink\u001b[49m\u001b[43m(\u001b[49m\u001b[43msource\u001b[49m\u001b[43m,\u001b[49m\u001b[43m \u001b[49m\u001b[43mweb3\u001b[49m\u001b[43m)\u001b[49m\n\u001b[1;32m     14\u001b[0m     finalizeMine(source[\u001b[38;5;124m\"\u001b[39m\u001b[38;5;124mname\u001b[39m\u001b[38;5;124m\"\u001b[39m])\n\u001b[1;32m     15\u001b[0m \u001b[38;5;28;01melif\u001b[39;00m(source[\u001b[38;5;124m\"\u001b[39m\u001b[38;5;124msourceType\u001b[39m\u001b[38;5;124m\"\u001b[39m] \u001b[38;5;241m==\u001b[39m \u001b[38;5;124m\"\u001b[39m\u001b[38;5;124mPyth\u001b[39m\u001b[38;5;124m\"\u001b[39m): \n",
      "File \u001b[0;32m~/Documents/GitHub/y2k_multiplier/src/oracles/chainlink.py:38\u001b[0m, in \u001b[0;36mmineChainlink\u001b[0;34m(source, web3)\u001b[0m\n\u001b[1;32m     36\u001b[0m \u001b[38;5;28;01mif\u001b[39;00m \u001b[38;5;129;01mnot\u001b[39;00m df\u001b[38;5;241m.\u001b[39mempty:\n\u001b[1;32m     37\u001b[0m     lastRoundId \u001b[38;5;241m=\u001b[39m df[\u001b[38;5;124m'\u001b[39m\u001b[38;5;124mroundId\u001b[39m\u001b[38;5;124m'\u001b[39m][df\u001b[38;5;241m.\u001b[39mindex[\u001b[38;5;241m-\u001b[39m\u001b[38;5;241m1\u001b[39m]]\n\u001b[0;32m---> 38\u001b[0m     ids \u001b[38;5;241m=\u001b[39m currentRoundId \u001b[38;5;241m-\u001b[39m \u001b[38;5;28;43mint\u001b[39;49m\u001b[43m(\u001b[49m\u001b[43mlastRoundId\u001b[49m\u001b[43m)\u001b[49m\n\u001b[1;32m     39\u001b[0m \u001b[38;5;28;01melse\u001b[39;00m:\n\u001b[1;32m     40\u001b[0m     \u001b[38;5;66;03m# TODO: Change back to 0\u001b[39;00m\n\u001b[1;32m     41\u001b[0m     lastRoundId \u001b[38;5;241m=\u001b[39m currentRoundId \u001b[38;5;241m-\u001b[39m \u001b[38;5;241m400\u001b[39m\n",
      "\u001b[0;31mValueError\u001b[0m: cannot convert float NaN to integer"
     ]
    }
   ],
   "source": [
    "# Mining configuration\n",
    "mineAllSources = False\n",
    "\n",
    "#ticker = [\"cusd\", \"dai\", \"fdusd\", \"frax\", \"lusd\",\"mai\" ,\"pyusd\", \"steth\", \"tusd\", \"usdc\", \"usdd\", \"usdt\", \"wbtc\"] \n",
    "\n",
    "ticker = [\"cusd\",\"crvusd\" ,\"dai\", \"fdusd\", \"frax\", \"lusd\",\"mai\" ,\"pyusd\", \"steth\", \"tusd\", \"usdc\", \"usdd\", \"usdt\",\"usde\", \"wbtc\"]\n",
    "#ticker = [ \"arb\", \"btc\", \"eth\", \"gmx\", \"pendle\", \"sol\",\"cvi\"]\n",
    "mineSources = fetchSourceInfo(ticker)\n",
    "\n",
    "\n",
    "# Mining process\n",
    "main(mineAllSources, mineSources)\n",
    "print('Done')"
   ]
  },
  {
   "cell_type": "code",
   "execution_count": null,
   "id": "b63b1328-7068-4aad-84c0-4fe2caa8ee8a",
   "metadata": {},
   "outputs": [],
   "source": []
  }
 ],
 "metadata": {
  "kernelspec": {
   "display_name": "strikes",
   "language": "python",
   "name": "strikes"
  },
  "language_info": {
   "codemirror_mode": {
    "name": "ipython",
    "version": 3
   },
   "file_extension": ".py",
   "mimetype": "text/x-python",
   "name": "python",
   "nbconvert_exporter": "python",
   "pygments_lexer": "ipython3",
   "version": "3.8.16"
  }
 },
 "nbformat": 4,
 "nbformat_minor": 5
}
