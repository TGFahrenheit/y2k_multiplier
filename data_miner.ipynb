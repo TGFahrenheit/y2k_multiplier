{
 "cells": [
  {
   "cell_type": "code",
   "execution_count": 1,
   "id": "96189f43-9fd4-4d92-b369-a3f68dd589a2",
   "metadata": {},
   "outputs": [
    {
     "data": {
      "text/plain": [
       "True"
      ]
     },
     "execution_count": 1,
     "metadata": {},
     "output_type": "execute_result"
    }
   ],
   "source": [
    "%load_ext autoreload\n",
    "%autoreload 2\n",
    "\n",
    "import json\n",
    "from src.oracles.chainlink import mineChainlink\n",
    "from src.oracles.pyth import minePyth\n",
    "from src.helpers import fetchSourceInfo, csv_format_daily, finalizeMine\n",
    "\n",
    "# Rpc configuration for mineData function\n",
    "from web3 import Web3\n",
    "from dotenv import load_dotenv\n",
    "import os\n",
    "load_dotenv()"
   ]
  },
  {
   "cell_type": "code",
   "execution_count": 2,
   "id": "6aeb072e-2315-42e3-b611-2b05ca018ea1",
   "metadata": {},
   "outputs": [],
   "source": [
    "# Routing the mining to the correct source\n",
    "def mineData(sources):    \n",
    "    # Iterating over the sources to mine data\n",
    "    for source in sources:\n",
    "        # Configuring the rpc for each chain\n",
    "        rpcEnv = f\"{source['chain']}_RPC\"\n",
    "        rpc = os.getenv(rpcEnv)\n",
    "        web3 = Web3(Web3.HTTPProvider(rpc))\n",
    "\n",
    "        # Mining the data\n",
    "        print(f\"Mining {source['name']} ({source['chain']}) via {source['sourceType']} on {source['address']}...\")\n",
    "        if(source[\"sourceType\"] == \"Chainlink\"): \n",
    "            mineChainlink(source, web3)\n",
    "            finalizeMine(source[\"name\"])\n",
    "        elif(source[\"sourceType\"] == \"Pyth\"): \n",
    "            minePyth(source)\n",
    "            #finalizeMine(source[\"name\"])\n",
    "        else: print(f\"Oracle type {source['sourceType']} not supported\")\n",
    "\n",
    "\n",
    "# Main function to mine all or specific source\n",
    "def main(mineAllSources, mineSources):\n",
    "    # Mining all data sources if mineAllSources is true\n",
    "    if(mineAllSources): \n",
    "        f = open(f\"config/sources.json\")\n",
    "        sourceData = json.load(f)\n",
    "        sources = fetchSourceInfo(list(sourceData.keys()))\n",
    "        print(f\"Mining data: {list(sourceData.keys())}\")\n",
    "        mineData(sources)\n",
    "        # TODO: Format the data to incl. High/Low/Close/Open for each day\n",
    "\n",
    "    # Mining the specified sources if mineAllSources is false\n",
    "    else : \n",
    "        if(len(mineSources) == 0): raise Exception(\"No sources found for the given tickers\")\n",
    "        print(f\"Mining data for the following: {ticker}\")\n",
    "        mineData(mineSources)\n",
    "        # TODO: Format the data to incl. Date/High/Low/Close/Open for each day"
   ]
  },
  {
   "cell_type": "code",
   "execution_count": 3,
   "id": "5611c16b-cc6d-4c03-af92-c40ffd49d754",
   "metadata": {},
   "outputs": [
    {
     "name": "stdout",
     "output_type": "stream",
     "text": [
      "Mining data for the following: ['cusd', 'crvusd', 'dai', 'fdusd', 'frax', 'lusd', 'mai', 'pyusd', 'steth', 'tusd', 'usdc', 'usdd', 'usdt', 'usde', 'wbtc']\n",
      "Mining CUSD (MAINNET) via Pyth on 0x8f218655050a1476b780185e89f19d2b1e1f49e9bd629efad6ac547a946bf6ab...\n",
      "https://benchmarks.pyth.network/v1/shims/tradingview/history?symbol=Crypto.cusd/USD&resolution=D&from=1681499288&to=1713035288\n",
      "Mining crvUSD (ARBITRUM) via Chainlink on 0x0a32255dd4BB6177C994bAAc73E0606fDD568f66...\n"
     ]
    },
    {
     "name": "stderr",
     "output_type": "stream",
     "text": [
      "100%|█████████████████████████████████████████████| 1/1 [00:00<00:00,  7.26it/s]\n"
     ]
    },
    {
     "name": "stdout",
     "output_type": "stream",
     "text": [
      "Mining DAI (ARBITRUM) via Chainlink on 0xc5C8E77B397E531B8EC06BFb0048328B30E9eCfB...\n"
     ]
    },
    {
     "name": "stderr",
     "output_type": "stream",
     "text": [
      "100%|█████████████████████████████████████████████| 1/1 [00:00<00:00,  6.28it/s]\n"
     ]
    },
    {
     "name": "stdout",
     "output_type": "stream",
     "text": [
      "Mining FDUSD (MAINNET) via Pyth on 0xccdc1a08923e2e4f4b1e6ea89de6acbc5fe1948e9706f5604b8cb50bc1ed3979...\n",
      "https://benchmarks.pyth.network/v1/shims/tradingview/history?symbol=Crypto.fdusd/USD&resolution=D&from=1681499296&to=1713035296\n",
      "Mining FRAX (ARBITRUM) via Chainlink on 0x0809E3d38d1B4214958faf06D8b1B1a2b73f2ab8...\n"
     ]
    },
    {
     "name": "stderr",
     "output_type": "stream",
     "text": [
      "100%|█████████████████████████████████████████████| 1/1 [00:00<00:00,  6.69it/s]\n"
     ]
    },
    {
     "name": "stdout",
     "output_type": "stream",
     "text": [
      "Mining LUSD (ARBITRUM) via Chainlink on 0x0411D28c94d85A36bC72Cb0f875dfA8371D8fFfF...\n"
     ]
    },
    {
     "name": "stderr",
     "output_type": "stream",
     "text": [
      "100%|███████████████████████████████████████████| 14/14 [00:02<00:00,  6.50it/s]\n"
     ]
    },
    {
     "name": "stdout",
     "output_type": "stream",
     "text": [
      "Mining MAI (ARBITRUM) via Chainlink on 0x59644ec622243878d1464A9504F9e9a31294128a...\n"
     ]
    },
    {
     "name": "stderr",
     "output_type": "stream",
     "text": [
      "100%|█████████████████████████████████████████████| 4/4 [00:00<00:00,  6.08it/s]\n"
     ]
    },
    {
     "name": "stdout",
     "output_type": "stream",
     "text": [
      "Mining PYUSD (MAINNET) via Pyth on 0xc1da1b73d7f01e7ddd54b3766cf7fcd644395ad14f70aa706ec5384c59e76692...\n",
      "https://benchmarks.pyth.network/v1/shims/tradingview/history?symbol=Crypto.pyusd/USD&resolution=D&from=1681499304&to=1713035304\n",
      "Mining STETH (ARBITRUM) via Chainlink on 0xded2c52b75B24732e9107377B7Ba93eC1fFa4BAf...\n"
     ]
    },
    {
     "name": "stderr",
     "output_type": "stream",
     "text": [
      "100%|█████████████████████████████████████████████| 1/1 [00:00<00:00,  6.75it/s]\n"
     ]
    },
    {
     "name": "stdout",
     "output_type": "stream",
     "text": [
      "Mining TUSD (ARBITRUM) via Chainlink on 0x6fAbee62266Da6686EE2744C6f15bb8352d2f28D...\n"
     ]
    },
    {
     "name": "stderr",
     "output_type": "stream",
     "text": [
      "100%|█████████████████████████████████████████████| 1/1 [00:00<00:00,  7.12it/s]\n"
     ]
    },
    {
     "name": "stdout",
     "output_type": "stream",
     "text": [
      "Mining USDC (ARBITRUM) via Chainlink on 0x50834F3163758fcC1Df9973b6e91f0F0F0434aD3...\n"
     ]
    },
    {
     "name": "stderr",
     "output_type": "stream",
     "text": [
      "100%|█████████████████████████████████████████████| 1/1 [00:00<00:00,  7.22it/s]\n"
     ]
    },
    {
     "name": "stdout",
     "output_type": "stream",
     "text": [
      "Mining USDD (ARBITRUM) via Chainlink on 0x4Ee1f9ec1048979930aC832a3C1d18a0b4955a02...\n"
     ]
    },
    {
     "name": "stderr",
     "output_type": "stream",
     "text": [
      "100%|█████████████████████████████████████████████| 1/1 [00:00<00:00,  7.48it/s]\n"
     ]
    },
    {
     "name": "stdout",
     "output_type": "stream",
     "text": [
      "Mining USDT (ARBITRUM) via Chainlink on 0x3f3f5dF88dC9F13eac63DF89EC16ef6e7E25DdE7...\n"
     ]
    },
    {
     "name": "stderr",
     "output_type": "stream",
     "text": [
      "100%|█████████████████████████████████████████████| 1/1 [00:00<00:00,  7.12it/s]\n"
     ]
    },
    {
     "name": "stdout",
     "output_type": "stream",
     "text": [
      "Mining USDe (MAINNET) via Pyth on 0x6ec879b1e9963de5ee97e9c8710b742d6228252a5e2ca12d4ae81d7fe5ee8c5d...\n",
      "https://benchmarks.pyth.network/v1/shims/tradingview/history?symbol=Crypto.usde/USD&resolution=D&from=1681499310&to=1713035310\n",
      "Mining WBTC (ARBITRUM) via Chainlink on 0x0017abAc5b6f291F9164e35B1234CA1D697f9CF4...\n"
     ]
    },
    {
     "name": "stderr",
     "output_type": "stream",
     "text": [
      "100%|█████████████████████████████████████████████| 1/1 [00:00<00:00,  6.28it/s]\n"
     ]
    },
    {
     "name": "stdout",
     "output_type": "stream",
     "text": [
      "Done\n"
     ]
    }
   ],
   "source": [
    "# Mining configuration\n",
    "mineAllSources = False\n",
    "\n",
    "#ticker = [\"cusd\", \"dai\", \"fdusd\", \"frax\", \"lusd\",\"mai\" ,\"pyusd\", \"steth\", \"tusd\", \"usdc\", \"usdd\", \"usdt\", \"wbtc\"] \n",
    "\n",
    "ticker = [\"cusd\",\"crvusd\" ,\"dai\", \"fdusd\", \"frax\", \"lusd\",\"mai\" ,\"pyusd\", \"steth\", \"tusd\", \"usdc\", \"usdd\", \"usdt\",\"usde\", \"wbtc\"]\n",
    "#ticker = [ \"arb\", \"btc\", \"eth\", \"gmx\", \"pendle\", \"sol\",\"cvi\"]\n",
    "mineSources = fetchSourceInfo(ticker)\n",
    "\n",
    "\n",
    "# Mining process\n",
    "main(mineAllSources, mineSources)\n",
    "print('Done')"
   ]
  },
  {
   "cell_type": "code",
   "execution_count": null,
   "id": "b63b1328-7068-4aad-84c0-4fe2caa8ee8a",
   "metadata": {},
   "outputs": [],
   "source": []
  }
 ],
 "metadata": {
  "kernelspec": {
   "display_name": "strikes",
   "language": "python",
   "name": "strikes"
  },
  "language_info": {
   "codemirror_mode": {
    "name": "ipython",
    "version": 3
   },
   "file_extension": ".py",
   "mimetype": "text/x-python",
   "name": "python",
   "nbconvert_exporter": "python",
   "pygments_lexer": "ipython3",
   "version": "3.8.16"
  }
 },
 "nbformat": 4,
 "nbformat_minor": 5
}
